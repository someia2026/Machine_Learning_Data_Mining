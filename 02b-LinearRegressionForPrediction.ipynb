{
 "cells": [
  {
   "cell_type": "markdown",
   "metadata": {},
   "source": [
    "# Linear regression for prediction\n",
    "\n",
    "Signification des émoticones :\n",
    "- 🌞 : documentations importantes\n",
    "- 👀 : documentations intéressantes à connaître\n",
    "- 🌚 : en complément\n",
    "- (vide) : à vous de voir\n",
    "\n",
    "-------\n",
    "\n",
    "For the remainder of the module we will look at using linear regression in a more algorithmic/computer science/machine learning context. In this notebook we will take a more detailed look at conducting linear regression in `scikit-learn`, you will:\n",
    "* write your own code to compute MSE\n",
    "* Learn what training and testing sets are\n",
    "* Use `scikit-learn` to perform a multiple linear regression\n",
    "* Evaluate your results\n",
    "* Create a model to predict housing prices\n"
   ]
  },
  {
   "cell_type": "markdown",
   "metadata": {},
   "source": [
    "## Assesing model accuracy\n",
    "\n",
    "We always must evaluate how 'good' our model is in order to understand how it performs. One common measure of accuracy (or error) for a regression type problem is **Mean Squared Error (MSE)**. This can be calculated using the following formula:\n",
    "\n",
    "<div style=\"font-size: 120%;\">  \n",
    "$$ MSE = \\frac{1}{n} \\sum_{i=1}^n (y_i − \\hat{f}(x_i))^2, $$\n",
    "</div>\n",
    "\n",
    "where $y_i$ is the true values and $\\hat{f}(x_i)$ is the predicted values by our model over $n$ samples.\n",
    "\n",
    "### Exercise 1: write a function to calculate MSE\n",
    "\n",
    "Given the lists of true values and predictions write a function that calculates the MSE of this data. \n",
    "\n",
    "\n",
    "HINT\n",
    "* using numpy arrays will make this much easier."
   ]
  },
  {
   "cell_type": "markdown",
   "metadata": {
    "notebookRunGroups": {
     "groupValue": "1"
    }
   },
   "source": [
    "## Évaluation de la précision du modèle\n",
    "\n",
    "Nous devons toujours évaluer la « qualité » de notre modèle afin de comprendre ses performances. Une mesure courante de la précision (ou de l'erreur) pour un problème de type régression est l'**erreur quadratique moyenne (MSE)**. Elle peut être calculée à l'aide de la formule suivante :\n",
    "\n",
    "<div style=\"font-size: 120%;\">  \n",
    "$$ MSE = \\frac{1}{n} \\sum_{i=1}^n (y_i − \\hat{f}(x_i))^2, $$\n",
    "</div>\n",
    "\n",
    "où $y_i$ est la valeur réelle et $\\hat{f}(x_i)$ est la valeur prédite par notre modèle sur $n$ échantillons.\n",
    "\n",
    "### Exercice 1 : écrivez une fonction pour calculer l'erreur quadratique moyenne\n",
    "\n",
    "À partir des listes de valeurs réelles et de prédictions, écrivez une fonction qui calcule l'erreur quadratique moyenne de ces données.\n",
    "\n",
    "\n",
    "INDICE\n",
    "* L'utilisation de tableaux numpy facilitera grandement cette tâche."
   ]
  },
  {
   "cell_type": "code",
   "execution_count": 1,
   "metadata": {},
   "outputs": [],
   "source": [
    "import numpy as np\n",
    "import pandas as pd\n",
    "import matplotlib.pyplot as plt"
   ]
  },
  {
   "cell_type": "code",
   "execution_count": 2,
   "metadata": {},
   "outputs": [],
   "source": [
    "true_values = [13.9, 20.3, 2.1, 8.8, 5.2]\n",
    "predicted_vals = [14.3, 18.9, 3.4, 8.9, 5.0]"
   ]
  },
  {
   "cell_type": "code",
   "execution_count": 3,
   "metadata": {},
   "outputs": [
    {
     "name": "stdout",
     "output_type": "stream",
     "text": [
      "La moyenne quadratique d erreur est 0.7720000000000011\n"
     ]
    }
   ],
   "source": [
    "### your solution here\n",
    "from sklearn.metrics import mean_squared_error\n",
    "true_values = [13.9, 20.3, 2.1, 8.8, 5.2]\n",
    "predicted_vals = [14.3, 18.9, 3.4, 8.9, 5.0]\n",
    "\n",
    "# On transforme les colonnes en array\n",
    "x = np.array([true_values])\n",
    "y = np.array([predicted_vals])\n",
    "mse = mean_squared_error(x,y)\n",
    "print('La moyenne quadratique d erreur est', mse)"
   ]
  },
  {
   "cell_type": "markdown",
   "metadata": {},
   "source": [
    "### MSE evaluation in sklearn"
   ]
  },
  {
   "cell_type": "markdown",
   "metadata": {},
   "source": [
    "`Scikit-Learn` provides a function to calculate MSE (as well as other useful performance metrics) so that you dont have to carry around your function to all the different projects you work on. We can use this to evaluate our function and check that we got the correct answer in the exercise above."
   ]
  },
  {
   "cell_type": "code",
   "execution_count": 4,
   "metadata": {},
   "outputs": [
    {
     "data": {
      "text/plain": [
       "0.7720000000000011"
      ]
     },
     "execution_count": 4,
     "metadata": {},
     "output_type": "execute_result"
    }
   ],
   "source": [
    "from sklearn.metrics import mean_squared_error\n",
    "\n",
    "mean_squared_error(true_values, predicted_vals)"
   ]
  },
  {
   "cell_type": "markdown",
   "metadata": {},
   "source": [
    "**Task 1**: Other evaluation metrics\n",
    "* Find at least 2 other metrics that exist in `Scikit-Learn` that can be used in regression problems.\n",
    "* Calculate the errors of these on the hypothetical data we used above."
   ]
  },
  {
   "cell_type": "code",
   "execution_count": 5,
   "metadata": {},
   "outputs": [
    {
     "name": "stdout",
     "output_type": "stream",
     "text": [
      "La valeur absolue des écarts est de 0.6800000000000004\n"
     ]
    }
   ],
   "source": [
    "#### your solution here\n",
    "from sklearn.metrics import mean_absolute_error\n",
    "mae = mean_absolute_error(true_values, predicted_vals)\n",
    "print('La valeur absolue des écarts est de', mae)"
   ]
  },
  {
   "cell_type": "code",
   "execution_count": 6,
   "metadata": {},
   "outputs": [
    {
     "name": "stdout",
     "output_type": "stream",
     "text": [
      "Le coefficient de détermination est de  0.9814576407970332\n"
     ]
    }
   ],
   "source": [
    "from sklearn.metrics import r2_score\n",
    "r2 = r2_score(true_values, predicted_vals)\n",
    "print('Le coefficient de détermination est de ', r2)"
   ]
  },
  {
   "cell_type": "markdown",
   "metadata": {},
   "source": [
    "#### MSE → sensible aux grandes erreurs\n",
    "\n",
    "#### MAE → mesure d’écart plus intuitive\n",
    "\n",
    "#### R² → \"note sur 1\" de ton modèle"
   ]
  },
  {
   "cell_type": "markdown",
   "metadata": {},
   "source": [
    "## Training and testing sets\n",
    "\n",
    "When building models for prediction we are most interested in building a model that will generalise well to new sets of data that we will encounter in the future. Strictly speaking what we have calculated above is a *training MSE*, which means that the calculation of MSE was performed on the same data samples the model was fitted to. \n",
    " \n",
    "One good way to asses whether our model will be useful on new data sets is to fit our model only to a subset of the data, and then use new data the model has not seen to produce a prediction which we can evaluate. We saw this process in the previous notebook when we introduced `scikit-learn` and Logistic Regression.\n",
    "\n",
    "Here is another example:"
   ]
  },
  {
   "cell_type": "code",
   "execution_count": 7,
   "metadata": {},
   "outputs": [],
   "source": [
    "from sklearn.datasets import load_diabetes\n",
    "diabs = load_diabetes()"
   ]
  },
  {
   "cell_type": "code",
   "execution_count": 8,
   "metadata": {},
   "outputs": [
    {
     "name": "stdout",
     "output_type": "stream",
     "text": [
      ".. _diabetes_dataset:\n",
      "\n",
      "Diabetes dataset\n",
      "----------------\n",
      "\n",
      "Ten baseline variables, age, sex, body mass index, average blood\n",
      "pressure, and six blood serum measurements were obtained for each of n =\n",
      "442 diabetes patients, as well as the response of interest, a\n",
      "quantitative measure of disease progression one year after baseline.\n",
      "\n",
      "**Data Set Characteristics:**\n",
      "\n",
      ":Number of Instances: 442\n",
      "\n",
      ":Number of Attributes: First 10 columns are numeric predictive values\n",
      "\n",
      ":Target: Column 11 is a quantitative measure of disease progression one year after baseline\n",
      "\n",
      ":Attribute Information:\n",
      "    - age     age in years\n",
      "    - sex\n",
      "    - bmi     body mass index\n",
      "    - bp      average blood pressure\n",
      "    - s1      tc, total serum cholesterol\n",
      "    - s2      ldl, low-density lipoproteins\n",
      "    - s3      hdl, high-density lipoproteins\n",
      "    - s4      tch, total cholesterol / HDL\n",
      "    - s5      ltg, possibly log of serum triglycerides level\n",
      "    - s6      glu, blood sugar level\n",
      "\n",
      "Note: Each of these 10 feature variables have been mean centered and scaled by the standard deviation times the square root of `n_samples` (i.e. the sum of squares of each column totals 1).\n",
      "\n",
      "Source URL:\n",
      "https://www4.stat.ncsu.edu/~boos/var.select/diabetes.html\n",
      "\n",
      "For more information see:\n",
      "Bradley Efron, Trevor Hastie, Iain Johnstone and Robert Tibshirani (2004) \"Least Angle Regression,\" Annals of Statistics (with discussion), 407-499.\n",
      "(https://web.stanford.edu/~hastie/Papers/LARS/LeastAngle_2002.pdf)\n",
      "\n"
     ]
    }
   ],
   "source": [
    "print(diabs.DESCR)"
   ]
  },
  {
   "cell_type": "code",
   "execution_count": 9,
   "metadata": {},
   "outputs": [
    {
     "data": {
      "text/plain": [
       "(442, 10)"
      ]
     },
     "execution_count": 9,
     "metadata": {},
     "output_type": "execute_result"
    }
   ],
   "source": [
    "diabs.data.shape"
   ]
  },
  {
   "cell_type": "code",
   "execution_count": 10,
   "metadata": {},
   "outputs": [
    {
     "data": {
      "text/plain": [
       "(442,)"
      ]
     },
     "execution_count": 10,
     "metadata": {},
     "output_type": "execute_result"
    }
   ],
   "source": [
    "diabs.target.shape"
   ]
  },
  {
   "cell_type": "code",
   "execution_count": 11,
   "metadata": {},
   "outputs": [],
   "source": [
    "import pandas as pd\n",
    "\n",
    "X = pd.DataFrame(diabs.data, columns=diabs.feature_names)\n",
    "y = diabs.target"
   ]
  },
  {
   "cell_type": "code",
   "execution_count": 12,
   "metadata": {},
   "outputs": [
    {
     "data": {
      "text/html": [
       "<div>\n",
       "<style scoped>\n",
       "    .dataframe tbody tr th:only-of-type {\n",
       "        vertical-align: middle;\n",
       "    }\n",
       "\n",
       "    .dataframe tbody tr th {\n",
       "        vertical-align: top;\n",
       "    }\n",
       "\n",
       "    .dataframe thead th {\n",
       "        text-align: right;\n",
       "    }\n",
       "</style>\n",
       "<table border=\"1\" class=\"dataframe\">\n",
       "  <thead>\n",
       "    <tr style=\"text-align: right;\">\n",
       "      <th></th>\n",
       "      <th>age</th>\n",
       "      <th>sex</th>\n",
       "      <th>bmi</th>\n",
       "      <th>bp</th>\n",
       "      <th>s1</th>\n",
       "      <th>s2</th>\n",
       "      <th>s3</th>\n",
       "      <th>s4</th>\n",
       "      <th>s5</th>\n",
       "      <th>s6</th>\n",
       "    </tr>\n",
       "  </thead>\n",
       "  <tbody>\n",
       "    <tr>\n",
       "      <th>0</th>\n",
       "      <td>0.038076</td>\n",
       "      <td>0.050680</td>\n",
       "      <td>0.061696</td>\n",
       "      <td>0.021872</td>\n",
       "      <td>-0.044223</td>\n",
       "      <td>-0.034821</td>\n",
       "      <td>-0.043401</td>\n",
       "      <td>-0.002592</td>\n",
       "      <td>0.019907</td>\n",
       "      <td>-0.017646</td>\n",
       "    </tr>\n",
       "    <tr>\n",
       "      <th>1</th>\n",
       "      <td>-0.001882</td>\n",
       "      <td>-0.044642</td>\n",
       "      <td>-0.051474</td>\n",
       "      <td>-0.026328</td>\n",
       "      <td>-0.008449</td>\n",
       "      <td>-0.019163</td>\n",
       "      <td>0.074412</td>\n",
       "      <td>-0.039493</td>\n",
       "      <td>-0.068332</td>\n",
       "      <td>-0.092204</td>\n",
       "    </tr>\n",
       "    <tr>\n",
       "      <th>2</th>\n",
       "      <td>0.085299</td>\n",
       "      <td>0.050680</td>\n",
       "      <td>0.044451</td>\n",
       "      <td>-0.005670</td>\n",
       "      <td>-0.045599</td>\n",
       "      <td>-0.034194</td>\n",
       "      <td>-0.032356</td>\n",
       "      <td>-0.002592</td>\n",
       "      <td>0.002861</td>\n",
       "      <td>-0.025930</td>\n",
       "    </tr>\n",
       "    <tr>\n",
       "      <th>3</th>\n",
       "      <td>-0.089063</td>\n",
       "      <td>-0.044642</td>\n",
       "      <td>-0.011595</td>\n",
       "      <td>-0.036656</td>\n",
       "      <td>0.012191</td>\n",
       "      <td>0.024991</td>\n",
       "      <td>-0.036038</td>\n",
       "      <td>0.034309</td>\n",
       "      <td>0.022688</td>\n",
       "      <td>-0.009362</td>\n",
       "    </tr>\n",
       "    <tr>\n",
       "      <th>4</th>\n",
       "      <td>0.005383</td>\n",
       "      <td>-0.044642</td>\n",
       "      <td>-0.036385</td>\n",
       "      <td>0.021872</td>\n",
       "      <td>0.003935</td>\n",
       "      <td>0.015596</td>\n",
       "      <td>0.008142</td>\n",
       "      <td>-0.002592</td>\n",
       "      <td>-0.031988</td>\n",
       "      <td>-0.046641</td>\n",
       "    </tr>\n",
       "  </tbody>\n",
       "</table>\n",
       "</div>"
      ],
      "text/plain": [
       "        age       sex       bmi        bp        s1        s2        s3  \\\n",
       "0  0.038076  0.050680  0.061696  0.021872 -0.044223 -0.034821 -0.043401   \n",
       "1 -0.001882 -0.044642 -0.051474 -0.026328 -0.008449 -0.019163  0.074412   \n",
       "2  0.085299  0.050680  0.044451 -0.005670 -0.045599 -0.034194 -0.032356   \n",
       "3 -0.089063 -0.044642 -0.011595 -0.036656  0.012191  0.024991 -0.036038   \n",
       "4  0.005383 -0.044642 -0.036385  0.021872  0.003935  0.015596  0.008142   \n",
       "\n",
       "         s4        s5        s6  \n",
       "0 -0.002592  0.019907 -0.017646  \n",
       "1 -0.039493 -0.068332 -0.092204  \n",
       "2 -0.002592  0.002861 -0.025930  \n",
       "3  0.034309  0.022688 -0.009362  \n",
       "4 -0.002592 -0.031988 -0.046641  "
      ]
     },
     "execution_count": 12,
     "metadata": {},
     "output_type": "execute_result"
    }
   ],
   "source": [
    "X.head()"
   ]
  },
  {
   "cell_type": "code",
   "execution_count": 13,
   "metadata": {},
   "outputs": [
    {
     "data": {
      "text/plain": [
       "array([151.,  75., 141., 206., 135.])"
      ]
     },
     "execution_count": 13,
     "metadata": {},
     "output_type": "execute_result"
    }
   ],
   "source": [
    "y[:5]"
   ]
  },
  {
   "cell_type": "markdown",
   "metadata": {},
   "source": [
    "We split the data into a test and training set."
   ]
  },
  {
   "cell_type": "code",
   "execution_count": 14,
   "metadata": {},
   "outputs": [],
   "source": [
    "from sklearn.model_selection import train_test_split\n",
    "X_train, X_test, y_train, y_test = train_test_split(X, y, random_state = 18)"
   ]
  },
  {
   "cell_type": "markdown",
   "metadata": {},
   "source": [
    "Fitting a linear regression model."
   ]
  },
  {
   "cell_type": "code",
   "execution_count": 15,
   "metadata": {},
   "outputs": [
    {
     "name": "stdout",
     "output_type": "stream",
     "text": [
      "test MSE: 3006.0739900867497\n"
     ]
    }
   ],
   "source": [
    "from sklearn.linear_model import LinearRegression\n",
    "\n",
    "# fit model to training data\n",
    "model = LinearRegression()\n",
    "model.fit(X_train, y_train)\n",
    "\n",
    "# predict y values for testing data set\n",
    "y_pred_test = model.predict(X_test)\n",
    "\n",
    "# evaluate MSE\n",
    "mse_test = mean_squared_error(y_test, y_pred_test)\n",
    "print('test MSE: {0}'.format(mse_test))"
   ]
  },
  {
   "cell_type": "markdown",
   "metadata": {},
   "source": [
    "We can also use this model to predict values on the train set, and evaluate the MSE. Comparing the two MSE scores gives us information on whether the model is overfitting or not. Normally we would compare these scores with other types of models (for example *support vector machines* or *random forests*...) that we have built in order to understand which model is best for the particular problem we are trying to solve. We almost always expect the *training error* to be lower than the *test error* (i.e. our performance reduces, or MSE increases) slightly when we move to new data the model has not seen."
   ]
  },
  {
   "cell_type": "code",
   "execution_count": 16,
   "metadata": {},
   "outputs": [
    {
     "name": "stdout",
     "output_type": "stream",
     "text": [
      "training MSE: 2864.8930035730586\n"
     ]
    }
   ],
   "source": [
    "y_pred_train = model.predict(X_train)\n",
    "mse_train = mean_squared_error(y_train, y_pred_train)\n",
    "print('training MSE: {0}'.format(mse_train))"
   ]
  },
  {
   "cell_type": "markdown",
   "metadata": {},
   "source": [
    "## Note: interpreting MSE\n",
    "\n",
    "MSE is not particularly intuitive to help understand how well your model predicts. In order to interpret how well our model is doing we could convert MSE to something with similar units to the target variable by taking the square root. This would be **Root Mean Squared Error** or **RMSE**.\n",
    "\n",
    "<br/>\n",
    "\n",
    "<div style=\"font-size: 120%;\">\n",
    "$$ RMSE = \\sqrt{MSE}$$\n",
    "</div>"
   ]
  },
  {
   "cell_type": "code",
   "execution_count": 17,
   "metadata": {},
   "outputs": [],
   "source": [
    "import numpy as np"
   ]
  },
  {
   "cell_type": "code",
   "execution_count": 18,
   "metadata": {},
   "outputs": [
    {
     "name": "stdout",
     "output_type": "stream",
     "text": [
      "RMSE: 54.82767540290897\n"
     ]
    }
   ],
   "source": [
    "rmse_test = np.sqrt(mse_test)\n",
    "print('RMSE: {0}'.format(rmse_test))"
   ]
  },
  {
   "cell_type": "markdown",
   "metadata": {},
   "source": [
    "If we do some simple descriptive stats on the target variable for the training set, we can see that our model is finding a solution on average within one standard deviation of the variance of the target. This type of analysis can give us some confidence whether our model is remotely useful or not!"
   ]
  },
  {
   "cell_type": "code",
   "execution_count": 19,
   "metadata": {},
   "outputs": [
    {
     "name": "stdout",
     "output_type": "stream",
     "text": [
      "Mean (standard deviation) values of target variables in train set: 150.93655589123867 (76.63854952919398)\n"
     ]
    }
   ],
   "source": [
    "mean  = np.mean(y_train)\n",
    "std = np.std(y_train)\n",
    "print('Mean (standard deviation) values of target variables in train set: {0} ({1})'.format(mean, std))"
   ]
  },
  {
   "cell_type": "markdown",
   "metadata": {},
   "source": [
    "RMSE, MSE, R2 squared: further reading\n",
    "\n",
    "* 🌚 https://stats.stackexchange.com/questions/242787/how-to-interpret-root-mean-squared-error-rmse-vs-standard-deviation\n",
    "* 🌚 https://setosa.io/ev/ordinary-least-squares-regression/\n",
    "* 👀 https://medium.com/analytics-vidhya/mae-mse-rmse-coefficient-of-determination-adjusted-r-squared-which-metric-is-better-cd0326a5697e"
   ]
  },
  {
   "cell_type": "markdown",
   "metadata": {},
   "source": [
    "## Correlation between predictor variables (or features)\n",
    "\n",
    "Correlation between two (or more) predictive variable means that there is a statistical relation between these two variables. This can be causal or not. When two variables are highle correlated (> 0.5), than they are collinear. This can be problematic.In the presence of collinearity between two or more predictors, it is difficult to isolate the impact of each of that predictor on the response. Multicollinearity has an impact on the coefficients and p values of those coefficients. But it does not impact the precision of the predictions. So depending on the goal (first notebook, classical statistics or machine learning) it is desirable to take out features that are correlated. Also in the case of ML, when we have a dataset with a large number of predictors, taking out variables that are collinear helps to reduce the dimensions and make a simpler, more stable model.\n",
    "\n",
    "\n",
    "(Further reading, see page 73, 74, 99 of ILS book).\n",
    "🌚 https://datascience.stackexchange.com/questions/24452/in-supervised-learning-why-is-it-bad-to-have-correlated-features\n",
    "\n",
    "Two methods:\n",
    "* make a correlation matrix and decide what variables to leave out. (0.1 = moderate, 0.5 = large)\n",
    "* Use variance inflaction factor method to leave out columns / features (if VIF > 5, leave out column)"
   ]
  },
  {
   "cell_type": "code",
   "execution_count": 20,
   "metadata": {},
   "outputs": [
    {
     "data": {
      "image/png": "[encoded data removed]",
      "text/plain": [
       "<Figure size 640x480 with 2 Axes>"
      ]
     },
     "metadata": {},
     "output_type": "display_data"
    }
   ],
   "source": [
    "# Correlation matrix\n",
    "df = pd.concat([X, pd.Series(y)], axis=1)\n",
    "df = df.rename(columns={0:'diabetes'})\n",
    "\n",
    "import seaborn as sns\n",
    "_ = sns.heatmap(df.corr(), cmap=\"RdBu_r\", vmin=-1, vmax=1)"
   ]
  },
  {
   "cell_type": "markdown",
   "metadata": {},
   "source": [
    "From the above matrix we see that bmi (predictor) is strongly correlated to diabetes (response). As a predictor, bmi is strongly related to bp. To make a regression model we could take out bp without impacting the accuracy of the prediction of diabetes. This results in a simpler and smaller model."
   ]
  },
  {
   "cell_type": "code",
   "execution_count": 57,
   "metadata": {},
   "outputs": [
    {
     "data": {
      "text/html": [
       "<div>\n",
       "<style scoped>\n",
       "    .dataframe tbody tr th:only-of-type {\n",
       "        vertical-align: middle;\n",
       "    }\n",
       "\n",
       "    .dataframe tbody tr th {\n",
       "        vertical-align: top;\n",
       "    }\n",
       "\n",
       "    .dataframe thead th {\n",
       "        text-align: right;\n",
       "    }\n",
       "</style>\n",
       "<table border=\"1\" class=\"dataframe\">\n",
       "  <thead>\n",
       "    <tr style=\"text-align: right;\">\n",
       "      <th></th>\n",
       "      <th>VIF</th>\n",
       "      <th>features</th>\n",
       "    </tr>\n",
       "  </thead>\n",
       "  <tbody>\n",
       "    <tr>\n",
       "      <th>4</th>\n",
       "      <td>59.202510</td>\n",
       "      <td>s1</td>\n",
       "    </tr>\n",
       "    <tr>\n",
       "      <th>5</th>\n",
       "      <td>39.193370</td>\n",
       "      <td>s2</td>\n",
       "    </tr>\n",
       "    <tr>\n",
       "      <th>6</th>\n",
       "      <td>15.402156</td>\n",
       "      <td>s3</td>\n",
       "    </tr>\n",
       "    <tr>\n",
       "      <th>7</th>\n",
       "      <td>8.890986</td>\n",
       "      <td>s4</td>\n",
       "    </tr>\n",
       "    <tr>\n",
       "      <th>8</th>\n",
       "      <td>10.075967</td>\n",
       "      <td>s5</td>\n",
       "    </tr>\n",
       "  </tbody>\n",
       "</table>\n",
       "</div>"
      ],
      "text/plain": [
       "         VIF features\n",
       "4  59.202510       s1\n",
       "5  39.193370       s2\n",
       "6  15.402156       s3\n",
       "7   8.890986       s4\n",
       "8  10.075967       s5"
      ]
     },
     "execution_count": 57,
     "metadata": {},
     "output_type": "execute_result"
    }
   ],
   "source": [
    "# Variance Inflation Factor\n",
    "from statsmodels.stats.outliers_influence import variance_inflation_factor\n",
    "\n",
    "variables = X\n",
    "variables.shape\n",
    "vif = pd.DataFrame()\n",
    "vif['VIF'] = [variance_inflation_factor(variables.values,i) for i in range(variables.shape[1])]\n",
    "vif['features'] = variables.columns\n",
    "vif[vif['VIF']>5]"
   ]
  },
  {
   "cell_type": "markdown",
   "metadata": {},
   "source": [
    "Leaving out the above columns should not impact the precision of prediction. But it results in a smaller and simpler model. Also, the std error and confidence interval of the coefficients should be smaller. But be careful, deleting all features with high collinearity, may lead to deleting the feature that is the best predictor for the response. So first check the correlation between features you want to delete and the (cor)relation with the response variable."
   ]
  },
  {
   "cell_type": "markdown",
   "metadata": {},
   "source": [
    "## Exercise 2: Linear regression prediction of house prices\n",
    "\n",
    "The California housing market is booming and, as it is the home of silicon valley, the housing company **Homes4You** have decided they want to use new data science techniques to aid their business. They want you to build a predictive model that provides the median house price for each local area across the state (These local areas are often called *'blocks'*). They will use this to help guide their agents in how to price houses.\n",
    "\n",
    "They have gathered a data set with numerous features to assist in building your model. However, they prefer to include as few features as possible to minimize the time their agents will spend collecting data in the future.\n",
    "\n",
    "\n",
    "Your mission is to apply a regression model to predict housing prices in California.\n",
    "* Import the data the company has collected using the sklearn function `fetch_california_housing`\n",
    "* Make a heatmap of the correlation coefficients between the variables\n",
    "* Split the data into a training and testing set\n",
    "* Build a linear regression model using all the variables available and print the train and test MSE scores.\n",
    "* Try building other models with different combinations of variables. Print the train and test MSE scores of at least 2 of these models.\n",
    "* Provide a recommendation to Homes4You of which variables you would include in the model.\n",
    "* Print the train and test **RMSE** scores of your final model and explain in a few sentences to Homes4You how well your model is performing. "
   ]
  },
  {
   "cell_type": "markdown",
   "metadata": {},
   "source": [
    "## Exercice 2 : Prédiction des prix immobiliers par régression linéaire\n",
    "\n",
    "Le marché immobilier californien est en plein essor et, comme il s'agit du berceau de la Silicon Valley, la société immobilière **Homes4You** a décidé d'utiliser les nouvelles techniques de science des données pour soutenir son activité. Elle vous demande de créer un modèle prédictif qui fournisse le prix médian des maisons pour chaque zone locale de l'État (ces zones locales sont souvent appelées *« blocs »*). Elle utilisera ce modèle pour aider ses agents à fixer le prix des maisons.\n",
    "\n",
    "Elle a rassemblé un ensemble de données comportant de nombreuses caractéristiques pour vous aider à construire votre modèle. Cependant, elle préfère inclure le moins de caractéristiques possible afin de réduire au minimum le temps que ses agents passeront à collecter des données à l'avenir.\n",
    "\n",
    "Votre mission consiste à appliquer un modèle de régression pour prédire les prix de l'immobilier en Californie.\n",
    "* Importez les données collectées par l'entreprise à l'aide de la fonction sklearn « fetch_california_housing ».\n",
    "* Créez une carte thermique des coefficients de corrélation entre les variables.\n",
    "* Divisez les données en un ensemble d'apprentissage et un ensemble de test.\n",
    "* Construisez un modèle de régression linéaire à l'aide de toutes les variables disponibles et imprimez les scores MSE d'apprentissage et de test.\n",
    "* Essayez de construire d'autres modèles avec différentes combinaisons de variables. Imprimez les scores MSE d'entraînement et de test d'au moins deux de ces modèles.\n",
    "* Fournissez à Homes4You une recommandation sur les variables que vous incluriez dans le modèle.\n",
    "* Imprimez les scores RMSE d'entraînement et de test de votre modèle final et expliquez en quelques phrases à Homes4You les performances de votre modèle. \n",
    "    "
   ]
  },
  {
   "cell_type": "code",
   "execution_count": 47,
   "metadata": {},
   "outputs": [
    {
     "name": "stdout",
     "output_type": "stream",
     "text": [
      "(20640, 8) (20640,)\n",
      "['MedInc', 'HouseAge', 'AveRooms', 'AveBedrms', 'Population', 'AveOccup']\n"
     ]
    }
   ],
   "source": [
    "#### your solution here\n",
    "\n",
    "from sklearn.datasets import fetch_california_housing\n",
    "housing = fetch_california_housing()\n",
    "print(housing.data.shape, housing.target.shape)\n",
    "print(housing.feature_names[0:6])"
   ]
  },
  {
   "cell_type": "code",
   "execution_count": null,
   "metadata": {},
   "outputs": [
    {
     "name": "stdout",
     "output_type": "stream",
     "text": [
      "        target\n",
      "target     1.0\n"
     ]
    }
   ],
   "source": [
    "## Correlation Matrix\n",
    "df = pd.DataFrame(housing, columns=housing.feature_names)\n",
    "df[\"target\"]= housing.target\n",
    "corr_matrix = df.corr()\n",
    "corr_matrix = df.corr(numeric_only=True)\n",
    "print(corr_matrix)\n"
   ]
  },
  {
   "cell_type": "code",
   "execution_count": 52,
   "metadata": {},
   "outputs": [
    {
     "name": "stdout",
     "output_type": "stream",
     "text": [
      "target    1.0\n",
      "Name: target, dtype: float64\n"
     ]
    }
   ],
   "source": [
    "print(corr_matrix[\"target\"].sort_values(ascending=False))\n"
   ]
  },
  {
   "cell_type": "code",
   "execution_count": 1,
   "metadata": {},
   "outputs": [
    {
     "name": "stdout",
     "output_type": "stream",
     "text": [
      "(20640, 8) (20640,)\n",
      "['MedInc', 'HouseAge', 'AveRooms', 'AveBedrms', 'Population', 'AveOccup']\n"
     ]
    },
    {
     "data": {
      "image/png": "[encoded data removed]",
      "text/plain": [
       "<Figure size 600x400 with 2 Axes>"
      ]
     },
     "metadata": {},
     "output_type": "display_data"
    }
   ],
   "source": [
    "from sklearn.datasets import fetch_california_housing\n",
    "import matplotlib.pyplot as plt\n",
    "import seaborn as sns\n",
    "import pandas as pd\n",
    " \n",
    "housing = fetch_california_housing()\n",
    "print(housing.data.shape, housing.target.shape)\n",
    "print(housing.feature_names[0:6])\n",
    "\n",
    "df = pd.DataFrame(housing.data, columns=housing.feature_names)\n",
    "df['Price'] = housing.target\n",
    "\n",
    "plt.figure(figsize=(6, 4))\n",
    "correlation_matrix = df.corr()\n",
    "sns.heatmap(correlation_matrix, annot=True, cmap='coolwarm', center=0, fmt='.2f')\n",
    "plt.title('Matrice de Corrélation - California Housing')\n",
    "plt.tight_layout()\n",
    "plt.show()\n"
   ]
  },
  {
   "cell_type": "markdown",
   "metadata": {},
   "source": [
    "#### Divisez les données en un ensemble d'apprentissage et un ensemble de test."
   ]
  },
  {
   "cell_type": "markdown",
   "metadata": {},
   "source": [
    "Pour diviser les données en un ensemble d'apprentissage et un ensemble de test, une approche courante consiste à effectuer une répartition aléatoire des données disponibles en deux groupes distincts : l'ensemble d'apprentissage, utilisé pour entraîner le modèle, et l'ensemble de test, utilisé pour évaluer ses performances.\n",
    " Cette division permet d'estimer dans quelle mesure le modèle se généralise à des données invisibles et fournit une estimation fiable de ses performances."
   ]
  },
  {
   "cell_type": "code",
   "execution_count": 15,
   "metadata": {},
   "outputs": [
    {
     "name": "stdout",
     "output_type": "stream",
     "text": [
      "Forme de l'ensemble de données: (20640, 8) Forme de la cible: (20640,)\n",
      "Noms des variables: ['MedInc', 'HouseAge', 'AveRooms', 'AveBedrms', 'Population', 'AveOccup', 'Latitude', 'Longitude']\n",
      "\n",
      "Taille de l'ensemble d'apprentissage: 16512\n",
      "Taille de l'ensemble de test: 4128\n",
      "\n",
      "======================================================================\n",
      "\n",
      "MODÈLE 1: Toutes les variables\n",
      "----------------------------------------------------------------------\n",
      "MSE d'apprentissage: 0.517933\n",
      "MSE de test: 0.555892\n",
      "Indicateur de surapprentissage (Test - Train): 0.037958\n",
      "\n",
      "======================================================================\n",
      "\n",
      "MODÈLE 2: Variables sélectionnées (RevenuMed, AgeHab, NbPiècesMoy, NbChambMoy)\n",
      "----------------------------------------------------------------------\n",
      "MSE d'apprentissage: 0.610274\n",
      "MSE de test: 0.643568\n",
      "Indicateur de surapprentissage (Test - Train): 0.033294\n",
      "\n",
      "======================================================================\n",
      "\n",
      "MODÈLE 3: Variables géographiques (RevenuMed, AgeHab, Latitude, Longitude)\n",
      "----------------------------------------------------------------------\n",
      "MSE d'apprentissage: 0.647753\n",
      "MSE de test: 0.659687\n",
      "Indicateur de surapprentissage (Test - Train): 0.011934\n",
      "\n",
      "======================================================================\n",
      "\n",
      "RÉSUMÉ DE LA COMPARAISON DES MODÈLES\n",
      "----------------------------------------------------------------------\n",
      "                Modèle  MSE Apprentissage  MSE Test  Écart Surapprentissage\n",
      "  Toutes les variables           0.517933  0.555892                0.037958\n",
      "Modèle 2 (4 variables)           0.610274  0.643568                0.033294\n",
      "Modèle 3 (4 variables)           0.647753  0.659687                0.011934\n"
     ]
    },
    {
     "ename": "NameError",
     "evalue": "name 'np' is not defined",
     "output_type": "error",
     "traceback": [
      "\u001b[1;31m---------------------------------------------------------------------------\u001b[0m",
      "\u001b[1;31mNameError\u001b[0m                                 Traceback (most recent call last)",
      "Cell \u001b[1;32mIn[15], line 107\u001b[0m\n\u001b[0;32m    104\u001b[0m     meilleur_mse_test \u001b[38;5;241m=\u001b[39m mse_test3\n\u001b[0;32m    106\u001b[0m \u001b[38;5;66;03m# Calculer l'RMSE pour le modèle final\u001b[39;00m\n\u001b[1;32m--> 107\u001b[0m rmse_apprentissage \u001b[38;5;241m=\u001b[39m np\u001b[38;5;241m.\u001b[39msqrt(meilleur_mse_train)\n\u001b[0;32m    108\u001b[0m rmse_test \u001b[38;5;241m=\u001b[39m np\u001b[38;5;241m.\u001b[39msqrt(meilleur_mse_test)\n\u001b[0;32m    110\u001b[0m \u001b[38;5;28mprint\u001b[39m(\u001b[38;5;124m\"\u001b[39m\u001b[38;5;130;01m\\n\u001b[39;00m\u001b[38;5;124m\"\u001b[39m \u001b[38;5;241m+\u001b[39m \u001b[38;5;124m\"\u001b[39m\u001b[38;5;124m=\u001b[39m\u001b[38;5;124m\"\u001b[39m\u001b[38;5;241m*\u001b[39m\u001b[38;5;241m70\u001b[39m)\n",
      "\u001b[1;31mNameError\u001b[0m: name 'np' is not defined"
     ]
    }
   ],
   "source": [
    "housing = fetch_california_housing()\n",
    "X = housing.data\n",
    "y = housing.target\n",
    "\n",
    "print(\"Forme de l'ensemble de données:\", X.shape, \"Forme de la cible:\", y.shape)\n",
    "print(\"Noms des variables:\", housing.feature_names)\n",
    "print()\n",
    "# Diviser en ensembles d'apprentissage et de test (80-20)\n",
    "from sklearn.model_selection import train_test_split\n",
    "X_train, X_test, y_train, y_test = train_test_split( X, y, test_size=0.2, random_state=42)\n",
    "\n",
    "print(\"Taille de l'ensemble d'apprentissage:\", X_train.shape[0])\n",
    "print(\"Taille de l'ensemble de test:\", X_test.shape[0])\n",
    "print(\"\\n\" + \"=\"*70)\n",
    "\n",
    "# Modèle 1: Toutes les variables\n",
    "print(\"\\nMODÈLE 1: Toutes les variables\")\n",
    "print(\"-\" * 70)\n",
    "from sklearn.linear_model import LinearRegression\n",
    "model1 = LinearRegression()\n",
    "model1.fit(X_train, y_train)\n",
    "\n",
    "y_train_pred1 = model1.predict(X_train)\n",
    "y_test_pred1 = model1.predict(X_test)\n",
    "\n",
    "from sklearn.metrics import mean_squared_error, mean_absolute_error\n",
    "mse_train1 = mean_squared_error(y_train, y_train_pred1)\n",
    "mse_test1 = mean_squared_error(y_test, y_test_pred1)\n",
    "\n",
    "print(f\"MSE d'apprentissage: {mse_train1:.6f}\")\n",
    "print(f\"MSE de test: {mse_test1:.6f}\")\n",
    "print(f\"Indicateur de surapprentissage (Test - Train): {mse_test1 - mse_train1:.6f}\")\n",
    "\n",
    "# Modèle 2: Variables sélectionnées (RevenuMed, AgeHab, NbPiècesMoy, NbChambMoy)\n",
    "print(\"\\n\" + \"=\"*70)\n",
    "print(\"\\nMODÈLE 2: Variables sélectionnées (RevenuMed, AgeHab, NbPiècesMoy, NbChambMoy)\")\n",
    "print(\"-\" * 70)\n",
    "variables_selectionnees2 = [0, 1, 2, 3]  # RevenuMed, AgeHab, NbPiècesMoy, NbChambMoy\n",
    "X_train2 = X_train[:, variables_selectionnees2]\n",
    "X_test2 = X_test[:, variables_selectionnees2]\n",
    "\n",
    "model2 = LinearRegression()\n",
    "model2.fit(X_train2, y_train)\n",
    "\n",
    "y_train_pred2 = model2.predict(X_train2)\n",
    "y_test_pred2 = model2.predict(X_test2)\n",
    "\n",
    "mse_train2 = mean_squared_error(y_train, y_train_pred2)\n",
    "mse_test2 = mean_squared_error(y_test, y_test_pred2)\n",
    "\n",
    "print(f\"MSE d'apprentissage: {mse_train2:.6f}\")\n",
    "print(f\"MSE de test: {mse_test2:.6f}\")\n",
    "print(f\"Indicateur de surapprentissage (Test - Train): {mse_test2 - mse_train2:.6f}\")\n",
    "\n",
    "# Modèle 3: Variables géographiques (RevenuMed, AgeHab, Latitude, Longitude)\n",
    "print(\"\\n\" + \"=\"*70)\n",
    "print(\"\\nMODÈLE 3: Variables géographiques (RevenuMed, AgeHab, Latitude, Longitude)\")\n",
    "print(\"-\" * 70)\n",
    "variables_selectionnees3 = [0, 1, 4, 5]  # RevenuMed, AgeHab, Latitude, Longitude\n",
    "X_train3 = X_train[:, variables_selectionnees3]\n",
    "X_test3 = X_test[:, variables_selectionnees3]\n",
    "\n",
    "model3 = LinearRegression()\n",
    "model3.fit(X_train3, y_train)\n",
    "\n",
    "y_train_pred3 = model3.predict(X_train3)\n",
    "y_test_pred3 = model3.predict(X_test3)\n",
    "\n",
    "mse_train3 = mean_squared_error(y_train, y_train_pred3)\n",
    "mse_test3 = mean_squared_error(y_test, y_test_pred3)\n",
    "\n",
    "print(f\"MSE d'apprentissage: {mse_train3:.6f}\")\n",
    "print(f\"MSE de test: {mse_test3:.6f}\")\n",
    "print(f\"Indicateur de surapprentissage (Test - Train): {mse_test3 - mse_train3:.6f}\")\n",
    "\n",
    "# Résumé et recommandation\n",
    "print(\"\\n\" + \"=\"*70)\n",
    "print(\"\\nRÉSUMÉ DE LA COMPARAISON DES MODÈLES\")\n",
    "print(\"-\" * 70)\n",
    "resume_modeles = pd.DataFrame({\n",
    "    'Modèle': ['Toutes les variables', 'Modèle 2 (4 variables)', 'Modèle 3 (4 variables)'],\n",
    "    'MSE Apprentissage': [mse_train1, mse_train2, mse_train3],\n",
    "    'MSE Test': [mse_test1, mse_test2, mse_test3],\n",
    "    'Écart Surapprentissage': [mse_test1 - mse_train1, mse_test2 - mse_train2, mse_test3 - mse_train3]\n",
    "})\n",
    "print(resume_modeles.to_string(index=False))\n",
    "\n",
    "# Sélectionner le meilleur modèle (MSE de test le plus faible)\n",
    "meilleur_mse = min(mse_test1, mse_test2, mse_test3)\n",
    "if meilleur_mse == mse_test1:\n",
    "    meilleur_modele = model1\n",
    "    meilleures_variables = \"Les 8 variables\"\n",
    "    meilleur_mse_train = mse_train1\n",
    "    meilleur_mse_test = mse_test1\n",
    "elif meilleur_mse == mse_test2:\n",
    "    meilleur_modele = model2\n",
    "    meilleures_variables = \"RevenuMed, AgeHab, NbPiècesMoy, NbChambMoy\"\n",
    "    meilleur_mse_train = mse_train2\n",
    "    meilleur_mse_test = mse_test2\n",
    "else:\n",
    "    meilleur_modele = model3\n",
    "    meilleures_variables = \"RevenuMed, AgeHab, Latitude, Longitude\"\n",
    "    meilleur_mse_train = mse_train3\n",
    "    meilleur_mse_test = mse_test3\n",
    "\n",
    "# Calculer l'RMSE pour le modèle final\n",
    "rmse_apprentissage = np.sqrt(meilleur_mse_train)\n",
    "rmse_test = np.sqrt(meilleur_mse_test)\n",
    "\n",
    "print(\"\\n\" + \"=\"*70)\n",
    "print(\"\\nRECOMMANDATION DE MODÈLE FINAL POUR HOMES4YOU\")\n",
    "print(\"-\" * 70)\n",
    "print(f\"\\nVariables du meilleur modèle: {meilleures_variables}\")\n",
    "print(f\"\\nRMSE d'apprentissage: {rmse_apprentissage:.6f}\")\n",
    "print(f\"RMSE de test: {rmse_test:.6f}\")\n",
    "\n",
    "print(\"\\n\" + \"-\" * 70)\n",
    "print(\"EXPLICATION DES PERFORMANCES POUR HOMES4YOU:\")\n",
    "print(\"-\" * 70)\n"
   ]
  },
  {
   "cell_type": "markdown",
   "metadata": {},
   "source": [
    "If removing strongly collinear features doesn’t lead to a better model, you can also try different feature combinations (for example, the one below yields similar training and testing scores)."
   ]
  },
  {
   "cell_type": "markdown",
   "metadata": {},
   "source": [
    "Si la suppression des caractéristiques fortement colinéaires ne permet pas d'obtenir un meilleur modèle, vous pouvez également essayer différentes combinaisons de caractéristiques (par exemple, celle ci-dessous donne des scores d'entraînement et de test similaires)."
   ]
  },
  {
   "cell_type": "code",
   "execution_count": 23,
   "metadata": {},
   "outputs": [],
   "source": [
    "# Leave out these columns and then compute the training and testing MSE\n",
    "to_drop = ['AveRooms', 'AveBedrms', 'Population', 'AveOccup']\n"
   ]
  },
  {
   "cell_type": "markdown",
   "metadata": {},
   "source": [
    "**Task 3: Explain this to your neighbour...**\n",
    "* The training and test errors are quite close. What does this mean? \n",
    "\n",
    "\n",
    "\n",
    "<details><summary>HINT</summary><br>\n",
    "HINT: think in terms of if we were to apply this fitted model to new data the model has not seen.\n",
    "\n",
    "</details>\n",
    "\n",
    "* If your MSE & RMSE results are different to those of your peers (even when using the same features and model), why might this be? \n",
    "\n",
    "\n",
    "\n",
    "**Task 4:**\n",
    "* Try to load the 'boston house price' (do some further research, what is the issue here?). \n",
    "* Try to load 'Linnerrud' data set that comes with sklearn? Try to build a model"
   ]
  },
  {
   "cell_type": "markdown",
   "metadata": {},
   "source": [
    "**Tâche 3 : Expliquez ceci à votre voisin...**\n",
    "* Les erreurs d'entraînement et de test sont assez proches. Qu'est-ce que cela signifie ?\n",
    "\n",
    "\n",
    "\n",
    "<details><summary>INDICE</summary><br>\n",
    "INDICE : réfléchissez en vous demandant ce qui se passerait si nous appliquions ce modèle ajusté à de nouvelles données que le modèle n'a pas encore vues.\n",
    "\n",
    "</details>\n",
    "\n",
    "* Si vos résultats MSE et RMSE sont différents de ceux de vos pairs (même en utilisant les mêmes caractéristiques et le même modèle), quelle pourrait en être la raison ? \n",
    "\n",
    "\n",
    "\n",
    "**Tâche 4 :**\n",
    "* Essayez de charger les données « boston house price » (faites quelques recherches supplémentaires, quel est le problème ici ?). \n",
    "* Essayez de charger l'ensemble de données « Linnerrud » fourni avec sklearn. Essayez de construire un modèle."
   ]
  },
  {
   "cell_type": "markdown",
   "metadata": {
    "notebookRunGroups": {
     "groupValue": "1"
    }
   },
   "source": [
    "**Tâche 3 : Expliquez ceci à votre voisin...**\n",
    "* Les erreurs d'entraînement et de test sont assez proches. Qu'est-ce que cela signifie ?\n",
    "\n",
    "\n",
    "\n",
    "<details><summary>INDICE</summary><br>\n",
    "INDICE : réfléchissez en vous demandant ce qui se passerait si nous appliquions ce modèle ajusté à de nouvelles données que le modèle n'a pas encore vues.\n",
    "\n",
    "</details>\n",
    "\n",
    "* Si vos résultats MSE et RMSE sont différents de ceux de vos pairs (même en utilisant les mêmes caractéristiques et le même modèle), quelle pourrait en être la raison ? \n",
    "\n",
    "\n",
    "\n",
    "**Tâche 4 :**\n",
    "* Essayez de charger les données « boston house price » (faites quelques recherches supplémentaires, quel est le problème ici ?). \n",
    "* Essayez de charger l'ensemble de données « Linnerrud » fourni avec sklearn. Essayez de construire un modèle.\n"
   ]
  },
  {
   "cell_type": "markdown",
   "metadata": {},
   "source": [
    "## To summarize"
   ]
  },
  {
   "cell_type": "markdown",
   "metadata": {},
   "source": [
    "* Several metrics can be used to measure the accuracy of predictions, such as:\n",
    "> - Mean Squared Error (MSE), which penalizes larger errors more heavily.\n",
    "> - Root Mean Squared Error (RMSE) : the square root of MSE, providing results in the original units of Y.\n",
    "> - Mean Absolute Error (MAE), which gives the average magnitude of errors without squaring.\n",
    "\n",
    "* The data is typically split into:\n",
    "> - A training set (usually 75% or 80% of the data), used to fit the model.\n",
    "> - A testing set (the remaining 20% or 25%), consisting of unseen data to evaluate the model’s ability to generalize to new observations.\n",
    "\n",
    "* Comparing training MSE (low) and test MSE (higher) helps detect overfitting. A small gap indicates good generalization.\n",
    "\n",
    "* Tools like correlation matrices and Variance Inflation Factor (VIF > 5) identify redundant features, enabling simpler, more stable models.\n",
    "\n"
   ]
  }
 ],
 "metadata": {
  "kernelspec": {
   "display_name": "base",
   "language": "python",
   "name": "python3"
  },
  "language_info": {
   "codemirror_mode": {
    "name": "ipython",
    "version": 3
   },
   "file_extension": ".py",
   "mimetype": "text/x-python",
   "name": "python",
   "nbconvert_exporter": "python",
   "pygments_lexer": "ipython3",
   "version": "3.13.5"
  },
  "toc": {
   "base_numbering": 1,
   "nav_menu": {},
   "number_sections": true,
   "sideBar": true,
   "skip_h1_title": false,
   "title_cell": "Table of Contents",
   "title_sidebar": "Contents",
   "toc_cell": false,
   "toc_position": {},
   "toc_section_display": true,
   "toc_window_display": false
  },
  "varInspector": {
   "cols": {
    "lenName": 16,
    "lenType": 16,
    "lenVar": 40
   },
   "kernels_config": {
    "python": {
     "delete_cmd_postfix": "",
     "delete_cmd_prefix": "del ",
     "library": "var_list.py",
     "varRefreshCmd": "print(var_dic_list())"
    },
    "r": {
     "delete_cmd_postfix": ") ",
     "delete_cmd_prefix": "rm(",
     "library": "var_list.r",
     "varRefreshCmd": "cat(var_dic_list()) "
    }
   },
   "types_to_exclude": [
    "module",
    "function",
    "builtin_function_or_method",
    "instance",
    "_Feature"
   ],
   "window_display": false
  }
 },
 "nbformat": 4,
 "nbformat_minor": 4
}
